{
  "cells": [
    {
      "cell_type": "markdown",
      "metadata": {
        "id": "view-in-github",
        "colab_type": "text"
      },
      "source": [
        "<a href=\"https://colab.research.google.com/github/DestroOG/DSA-geeksforgeeks/blob/main/DSA_GekksForGeeks.ipynb\" target=\"_parent\"><img src=\"https://colab.research.google.com/assets/colab-badge.svg\" alt=\"Open In Colab\"/></a>"
      ]
    },
    {
      "cell_type": "markdown",
      "source": [
        "## Intro and Analysis Of Algorithm\n"
      ],
      "metadata": {
        "id": "PXBiYAZN9ABe"
      }
    },
    {
      "cell_type": "markdown",
      "metadata": {
        "id": "YwsGIQMfEN1f"
      },
      "source": [
        "#### Q) Sum of N natural numbers\n"
      ]
    },
    {
      "cell_type": "code",
      "execution_count": null,
      "metadata": {
        "colab": {
          "base_uri": "https://localhost:8080/"
        },
        "id": "F-CjBilXEWfl",
        "outputId": "57dd6b2b-651a-46fb-b62a-2cfb9f5531b1"
      },
      "outputs": [
        {
          "name": "stdout",
          "output_type": "stream",
          "text": [
            "0\n",
            "1\n",
            "2\n",
            "3\n",
            "4\n",
            "5\n"
          ]
        }
      ],
      "source": [
        "n=n+1;\n",
        "for n in range (0,6):\n",
        "  print(n);"
      ]
    },
    {
      "cell_type": "code",
      "execution_count": null,
      "metadata": {
        "colab": {
          "base_uri": "https://localhost:8080/"
        },
        "id": "pHOOgJI6IIK2",
        "outputId": "a6ff5f1c-a06c-4b73-e4c2-342d7b0bcf76"
      },
      "outputs": [
        {
          "name": "stdout",
          "output_type": "stream",
          "text": [
            "Number: 3\n",
            "6\n"
          ]
        }
      ],
      "source": [
        "n=int(input(\"Number: \"))\n",
        "sum = 0 # i didnt understand this\n",
        "for i in range(1,n+1):\n",
        "  sum=sum+i\n",
        "\n",
        "print(sum);"
      ]
    },
    {
      "cell_type": "markdown",
      "metadata": {
        "id": "3vgqzQzyGiXt"
      },
      "source": [
        "#### Recrusion\n"
      ]
    },
    {
      "cell_type": "code",
      "execution_count": null,
      "metadata": {
        "colab": {
          "base_uri": "https://localhost:8080/"
        },
        "id": "1tpumCgvGkSV",
        "outputId": "8e03df37-fbf6-4098-d5ab-2c1421ffa4f0"
      },
      "outputs": [
        {
          "name": "stdout",
          "output_type": "stream",
          "text": [
            "Fibonacci Series:\n",
            "0\n",
            "1\n",
            "1\n",
            "2\n",
            "3\n",
            "5\n",
            "8\n",
            "13\n",
            "21\n",
            "34\n"
          ]
        }
      ],
      "source": [
        "def fibo(n):\n",
        "    if n <= 1:\n",
        "        return n\n",
        "    else:\n",
        "        return (fibo(n - 1) + fibo(n - 2))\n",
        "\n",
        "n_terms = 10\n",
        "print(\"Fibonacci Series:\")\n",
        "for i in range(n_terms):\n",
        "    print(fibo(i))\n"
      ]
    },
    {
      "cell_type": "code",
      "execution_count": null,
      "metadata": {
        "colab": {
          "base_uri": "https://localhost:8080/"
        },
        "id": "cQLVhddZLjVI",
        "outputId": "fbeb2367-dd6b-40cd-a188-9e72fe59130c"
      },
      "outputs": [
        {
          "name": "stdout",
          "output_type": "stream",
          "text": [
            "Write Number:6\n",
            "21\n"
          ]
        }
      ],
      "source": [
        "n=int(input(\"Write Number:\"))\n",
        "\n",
        "sum = 0\n",
        "for i in range (1,n+1):\n",
        "  sum = sum + i\n",
        "print(sum)"
      ]
    },
    {
      "cell_type": "markdown",
      "metadata": {
        "id": "F0SXpOPt31bH"
      },
      "source": [
        "a better way: sum of first n number (mathematically) = n*(n+1)/2, so use this for your question"
      ]
    },
    {
      "cell_type": "code",
      "execution_count": null,
      "metadata": {
        "colab": {
          "base_uri": "https://localhost:8080/"
        },
        "id": "budGqvmGK5co",
        "outputId": "10133b6d-d570-4a47-eeb0-872e7bac09bd"
      },
      "outputs": [
        {
          "name": "stdout",
          "output_type": "stream",
          "text": [
            "Emter Number: 10\n",
            "55.0\n"
          ]
        }
      ],
      "source": [
        "n=int(input(\"Emter Number: \"))\n",
        "sum=n*(n+1)/2\n",
        "print(sum)"
      ]
    },
    {
      "cell_type": "markdown",
      "metadata": {
        "id": "fTR6gZwM4S3v"
      },
      "source": [
        "This code is so much better as its rate of growth is constant and its asymptotically better as well.\n"
      ]
    },
    {
      "cell_type": "markdown",
      "source": [
        "## Mathematics"
      ],
      "metadata": {
        "id": "kE4x_liW83py"
      }
    },
    {
      "cell_type": "markdown",
      "metadata": {
        "id": "qrmn_7KQCX2a"
      },
      "source": [
        "### Q) Count digits\n"
      ]
    },
    {
      "cell_type": "code",
      "execution_count": null,
      "metadata": {
        "colab": {
          "base_uri": "https://localhost:8080/"
        },
        "id": "udGnrFB_CdF7",
        "outputId": "cbb28c0b-9221-4358-fe83-7e795f9a511f"
      },
      "outputs": [
        {
          "name": "stdout",
          "output_type": "stream",
          "text": [
            "Enter Number: 6678\n",
            "Count of digits = 4\n"
          ]
        }
      ],
      "source": [
        "n=int(input(\"Enter Number: \"))\n",
        "ans=0\n",
        "while n>0:\n",
        "  n=n//10\n",
        "  ans=ans+1\n",
        "\n",
        "print(\"Count of digits =\", + ans)"
      ]
    },
    {
      "cell_type": "markdown",
      "metadata": {
        "id": "iysv-bhOILNi"
      },
      "source": [
        "#### Q) Find factorial of a number"
      ]
    },
    {
      "cell_type": "code",
      "execution_count": null,
      "metadata": {
        "colab": {
          "base_uri": "https://localhost:8080/"
        },
        "id": "0EavwhKNFj-T",
        "outputId": "fefdf24a-9eec-4e87-e603-60f417658bf3"
      },
      "outputs": [
        {
          "name": "stdout",
          "output_type": "stream",
          "text": [
            "Enter number: 2\n",
            "The Factorial of 2 is 2\n"
          ]
        }
      ],
      "source": [
        "# Using Recursion\n",
        "def fact(n):\n",
        "  if n == 0:\n",
        "    return 1\n",
        "  else:\n",
        "    return n*fact(n-1)\n",
        "\n",
        "n=int(input(\"Enter number: \"))\n",
        "\n",
        "ans=fact(n)\n",
        "\n",
        "print(f\"The Factorial of {n} is {ans}\")\n",
        "\n",
        "# Using Loops (Iteration)\n",
        "def factorial_iterative(n):\n",
        "    result = 1\n",
        "    for i in range(1, n + 1):\n",
        "        result *= i # result = result * i\n",
        "    return result\n",
        "\n",
        "# Input: Get the number from the user\n",
        "n = int(input(\"Enter a number: \"))\n",
        "\n",
        "# Calculate the factorial using the iterative approach\n",
        "fact = factorial_iterative(n)\n",
        "\n",
        "# Output: Print the factorial\n",
        "print(f\"The factorial of {n} is {fact}\")"
      ]
    },
    {
      "cell_type": "markdown",
      "metadata": {
        "id": "TjeUjy30196j"
      },
      "source": [
        "### Count of numbers in factorial"
      ]
    },
    {
      "cell_type": "code",
      "execution_count": null,
      "metadata": {
        "id": "-Qu5lnx-MwQH"
      },
      "outputs": [],
      "source": [
        "#my code\n",
        "class Solution:\n",
        "    def digitsInFactorial(self,N,m):\n",
        "        m = 1\n",
        "        for i in range(1, N + 1):\n",
        "            m *= i\n",
        "        ans=0\n",
        "        while m>0:\n",
        "            m=m//10\n",
        "            ans=ans+1\n",
        "        return ans"
      ]
    },
    {
      "cell_type": "code",
      "execution_count": null,
      "metadata": {
        "id": "U1ju2cev2IfN"
      },
      "outputs": [],
      "source": [
        "#corrected code\n",
        "class Solution:\n",
        "    def digitsInFactorial(self, N):\n",
        "        factorial = 1\n",
        "        for i in range(1, N + 1):\n",
        "            factorial *= i\n",
        "        ans = 0\n",
        "        while factorial > 0:\n",
        "            factorial = factorial // 10\n",
        "            ans = ans + 1\n",
        "        return ans"
      ]
    },
    {
      "cell_type": "code",
      "execution_count": null,
      "metadata": {
        "id": "QrgVfCCF4adR"
      },
      "outputs": [],
      "source": [
        "#optimmized code\n",
        "class Solution:\n",
        "    def digitsInFactorial(self, N):\n",
        "        m = 1\n",
        "        for i in range(1, N + 1):\n",
        "            m *= i\n",
        "        count = len(str(m))\n",
        "        return count"
      ]
    },
    {
      "cell_type": "code",
      "execution_count": null,
      "metadata": {
        "id": "YfNnWyR64eip"
      },
      "outputs": [],
      "source": [
        "# now actual optimization\n",
        "import math\n",
        "class Solution:\n",
        "    def digitsInFactorial(self, N):\n",
        "      sum=1\n",
        "      for i in range(1,n+1):\n",
        "        sum+=math.log10(i)\n",
        "      return math.floor(sum)+1"
      ]
    },
    {
      "cell_type": "markdown",
      "metadata": {
        "id": "TsDSZLwvR-uD"
      },
      "source": [
        "### Trailing zeros\n"
      ]
    },
    {
      "cell_type": "code",
      "execution_count": null,
      "metadata": {
        "id": "QNOnxCRqKWG7"
      },
      "outputs": [],
      "source": [
        "#bhai wtf\n",
        "def countzeros(n):\n",
        "  i=5\n",
        "  while(i<n):\n",
        "    res=res+n//i\n",
        "    i=i*5\n",
        "  return res"
      ]
    },
    {
      "cell_type": "code",
      "execution_count": null,
      "metadata": {
        "colab": {
          "base_uri": "https://localhost:8080/"
        },
        "id": "Unv6S306Smn_",
        "outputId": "cf93e12c-cbf0-4230-c21e-29d3d0418b0f"
      },
      "outputs": [
        {
          "output_type": "stream",
          "name": "stdout",
          "text": [
            "a: 24\n",
            "b: 8\n",
            "HCF of the two numbers are 8\n"
          ]
        }
      ],
      "source": [
        "def HCF(a,b):\n",
        "  while(a!=b):\n",
        "    if a>b:\n",
        "      a=a-b\n",
        "    else:\n",
        "      b=b-a\n",
        "  return a\n",
        "\n",
        "a=int(input(\"a: \"))\n",
        "b=int(input(\"b: \"))\n",
        "print(f\"HCF of the two numbers are {HCF(a,b)}\")\n"
      ]
    },
    {
      "cell_type": "markdown",
      "source": [
        "## Lists\n"
      ],
      "metadata": {
        "id": "XFrrXsQ38o9m"
      }
    },
    {
      "cell_type": "markdown",
      "source": [
        "### Basics and Intro"
      ],
      "metadata": {
        "id": "bJLs-egZB7RT"
      }
    },
    {
      "cell_type": "code",
      "execution_count": null,
      "metadata": {
        "id": "fW3BL157VJ2f",
        "colab": {
          "base_uri": "https://localhost:8080/"
        },
        "outputId": "b4119c1e-08f4-414f-bca5-c6930c5c4401"
      },
      "outputs": [
        {
          "output_type": "stream",
          "name": "stdout",
          "text": [
            "[12, 15, 24, 35, 59]\n",
            "35\n",
            "35\n",
            "59\n"
          ]
        }
      ],
      "source": [
        "l=[12,15,24,35,59]\n",
        "\n",
        "print(l)\n",
        "print(l[3])\n",
        "print(l[-2])\n",
        "print(l[-1])"
      ]
    },
    {
      "cell_type": "markdown",
      "source": [
        "### Mean of List"
      ],
      "metadata": {
        "id": "OCIj7-eZUMXc"
      }
    },
    {
      "cell_type": "code",
      "source": [
        "import math\n",
        "l=[12,15,24,35,59]\n",
        "avg=sum(l)/len(l)\n",
        "print(avg)"
      ],
      "metadata": {
        "colab": {
          "base_uri": "https://localhost:8080/"
        },
        "id": "87BMOdmr9N6j",
        "outputId": "28430cfb-f293-4733-be58-47e2c101bc64"
      },
      "execution_count": null,
      "outputs": [
        {
          "output_type": "stream",
          "name": "stdout",
          "text": [
            "29.0\n"
          ]
        }
      ]
    },
    {
      "cell_type": "markdown",
      "source": [
        "Segregation of list into odd and even"
      ],
      "metadata": {
        "id": "25GMCjPjf4XP"
      }
    },
    {
      "cell_type": "code",
      "source": [
        "import math\n",
        "l=[12,15,24,35,59,30,22,37]\n",
        "e=[]\n",
        "o=[]\n",
        "for element in l:\n",
        "  if element%2 != 0:\n",
        "    e.append(element)\n",
        "  else:\n",
        "    o.append(element)\n",
        "\n",
        "print(e,o)"
      ],
      "metadata": {
        "colab": {
          "base_uri": "https://localhost:8080/"
        },
        "id": "9ZrrlzCUUgWz",
        "outputId": "bd7fe5cc-2118-4118-e5a3-af963f6980ad"
      },
      "execution_count": null,
      "outputs": [
        {
          "output_type": "stream",
          "name": "stdout",
          "text": [
            "[15, 35, 59, 37] [12, 24, 30, 22]\n"
          ]
        }
      ]
    },
    {
      "cell_type": "markdown",
      "source": [
        "### Smaller than x"
      ],
      "metadata": {
        "id": "70JGYGc0mGy7"
      }
    },
    {
      "cell_type": "code",
      "source": [
        "l=[12,15,24,35,59,30,22,37]\n",
        "x=25\n",
        "s=[]\n",
        "for i in l:\n",
        "  if i<x:\n",
        "    s.append(i)\n",
        "\n",
        "print(s)"
      ],
      "metadata": {
        "colab": {
          "base_uri": "https://localhost:8080/"
        },
        "id": "eTnOUmBSVa4s",
        "outputId": "05a1cff0-892a-42da-8bae-d88f77493bb1"
      },
      "execution_count": null,
      "outputs": [
        {
          "output_type": "stream",
          "name": "stdout",
          "text": [
            "[12, 15, 24, 22]\n"
          ]
        }
      ]
    },
    {
      "cell_type": "markdown",
      "source": [
        "### Problem: Immediate smaller element from list\n"
      ],
      "metadata": {
        "id": "-VUfM2FQEQxO"
      }
    },
    {
      "cell_type": "markdown",
      "source": [
        "#### Attempt 1: Wrong"
      ],
      "metadata": {
        "id": "iaLybF98EYXv"
      }
    },
    {
      "cell_type": "code",
      "source": [
        "class Solution:\n",
        "    def immediateSmaller(self,arr,n,x):\n",
        "        arr.sort(reverse=True)\n",
        "        for i in arr:\n",
        "            if i<x:\n",
        "                return i\n",
        "\n",
        "# What was wrong: This returns the smallest element, we need immediate smaller element"
      ],
      "metadata": {
        "id": "ckcrbMxHgbtj"
      },
      "execution_count": 1,
      "outputs": []
    },
    {
      "cell_type": "markdown",
      "source": [
        "#### Attempt 2: Runtime error"
      ],
      "metadata": {
        "id": "GbhMFYYkEgdj"
      }
    },
    {
      "cell_type": "code",
      "source": [
        "class Solution:\n",
        "    def immediateSmaller(self,arr,n,x):\n",
        "        s=[]\n",
        "        for i in arr:\n",
        "            if i<x:\n",
        "                s.append(i)\n",
        "        return max(s)\n",
        "\n",
        "# What was wrong: the code is correct but there are no smaller elements s will be empty and max(s) will return with a runtime error.\n",
        "# To fix this we must first check if len(s) !== 0"
      ],
      "metadata": {
        "id": "sldcxp-gEt7y"
      },
      "execution_count": 2,
      "outputs": []
    },
    {
      "cell_type": "markdown",
      "source": [
        "#### Attempt 3: Correct solution"
      ],
      "metadata": {
        "id": "JwObMP3-E7QC"
      }
    },
    {
      "cell_type": "code",
      "source": [
        "class Solution:\n",
        "    def immediateSmaller(self,arr,n,x):\n",
        "        s=[]\n",
        "        for i in arr:\n",
        "            if i<x:\n",
        "                s.append(i)\n",
        "        if len(s) == 0:\n",
        "            return -1\n",
        "        else:\n",
        "            return max(s)\n"
      ],
      "metadata": {
        "id": "MtQdQMA3E-Zq"
      },
      "execution_count": 3,
      "outputs": []
    },
    {
      "cell_type": "markdown",
      "source": [
        "### Problem: Who has majority\n",
        "\n",
        "Given an array **arr[]** of size **N** and two elements **x** and **y**, use counter variables to find which element appears most in the array. If both elements have the same frequency, then return the smaller element.  \n",
        "**Note:**  We need to return the element, not its count.\n"
      ],
      "metadata": {
        "id": "kffw8TXJFI5s"
      }
    },
    {
      "cell_type": "markdown",
      "source": [
        "#### Attempt 1: Oonga Boonga Code"
      ],
      "metadata": {
        "id": "9Gprf2pTFOuS"
      }
    },
    {
      "cell_type": "code",
      "source": [
        "from collections import counter\n",
        "class Solution:\n",
        "    #Function to find element with more appearances between two elements in an array.\n",
        "    def majorityWins(self, arr, n, x, y):\n",
        "        for i in arr:\n",
        "            f=i_count.most_common()\n",
        "            if x=f:\n",
        "                return x\n",
        "            if y=f:\n",
        "                return y\n",
        "            else:\n",
        "                if x<y:\n",
        "                    return x\n",
        "                else:\n",
        "                    return y\n",
        "\n",
        "'''\n",
        "What was wrong: umm..many things\n",
        "1) import Counter* (capital C)\n",
        "2) thats not how u use counter, you first create an object that counts no of each elements in array and then define which values you want to count and compare\n",
        "3) thats not how you write multiple if statements, you use if elif elif then else\n",
        "4) wtf was that else statement, min(x,y) is how you find which of them are smaller\n",
        "'''"
      ],
      "metadata": {
        "id": "QCXhgg_BFZB4"
      },
      "execution_count": null,
      "outputs": []
    },
    {
      "cell_type": "markdown",
      "source": [
        "#### Attempt 2: Corrected code (YOGI AI BOT)"
      ],
      "metadata": {
        "id": "c2NhNxNLFn2U"
      }
    },
    {
      "cell_type": "code",
      "source": [
        "from collections import Counter\n",
        "class Solution:\n",
        "    #Function to find element with more appearances between two elements in an array.\n",
        "    def majorityWins(self, arr, n, x, y):\n",
        "        counter = Counter(arr)\n",
        "        x_count = counter[x]\n",
        "        y_count = counter[y]\n",
        "\n",
        "        if x_count > y_count:\n",
        "            return x\n",
        "        elif y_count > x_count:\n",
        "            return y\n",
        "        else:\n",
        "            return min(x, y)"
      ],
      "metadata": {
        "id": "PX5ND3mWFqYk"
      },
      "execution_count": 7,
      "outputs": []
    },
    {
      "cell_type": "markdown",
      "source": [
        "Code explanation\n",
        "    1. Import the `Counter` class from the `collections` module. `Counter` is used to count the occurrences of elements in a collection.\n",
        "    2. Define the `Solution` class.\n",
        "    3. Define the `majorityWins` method within the `Solution` class. It takes the following parameters:\n",
        "    - `arr`: The input array in which you want to find the majority element.\n",
        "    - `n`: The number of elements in the array (though this parameter is not used in the code).\n",
        "    - `x`: The first element you want to compare.\n",
        "    - `y`: The second element you want to compare.\n",
        "    4. Create a `Counter` object named `counter` by passing the `arr` as an argument. This object will count the occurrences of each element in `arr`.\n",
        "    5. Calculate the counts of elements `x` and `y` using the `counter` object:\n",
        "    - `x_count = counter[x]`: The count of occurrences of element `x`.\n",
        "    - `y_count = counter[y]`: The count of occurrences of element `y`.\n",
        "    6. Compare the counts of `x` and `y` to determine the majority element:\n",
        "    - If `x_count` is greater than `y_count`, it means `x` appears more frequently, so the method returns `x`.\n",
        "    - If `y_count` is greater than `x_count`, it means `y` appears more frequently, so the method returns `y`.\n",
        "    - If the counts are equal, the method returns the minimum of `x` and `y`.\n",
        "    - The code essentially leverages the `Counter` class to count the occurrences of `x` and `y` in the `arr` array and then compares the counts to find the majority element, returning the result."
      ],
      "metadata": {
        "id": "C31lb4S5Fv8b"
      }
    },
    {
      "cell_type": "code",
      "source": [],
      "metadata": {
        "id": "EjcDGC75Fzrl"
      },
      "execution_count": null,
      "outputs": []
    }
  ],
  "metadata": {
    "colab": {
      "provenance": [],
      "authorship_tag": "ABX9TyNS/5n/Q68LF258KB7i23jm",
      "include_colab_link": true
    },
    "kernelspec": {
      "display_name": "Python 3",
      "name": "python3"
    },
    "language_info": {
      "name": "python"
    }
  },
  "nbformat": 4,
  "nbformat_minor": 0
}